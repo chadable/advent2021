{
 "cells": [
  {
   "cell_type": "code",
   "execution_count": 26,
   "metadata": {},
   "outputs": [],
   "source": [
    "import numpy as np\n",
    "import csv\n",
    "\n",
    "with open('input1.csv','r') as out:\n",
    "    csvt = csv.reader(out,delimiter=',')\n",
    "    a=[]\n",
    "    for row in csvt:\n",
    "        a.append(row[0])\n",
    "        \n",
    "a=np.array(a)\n",
    "a=a.astype(float)\n",
    "        "
   ]
  },
  {
   "cell_type": "code",
   "execution_count": 28,
   "metadata": {},
   "outputs": [
    {
     "name": "stdout",
     "output_type": "stream",
     "text": [
      "1288\n"
     ]
    }
   ],
   "source": [
    "i=0\n",
    "inc=0\n",
    "for x in range(len(a)):\n",
    "    if i==0:\n",
    "        a1=a[x]\n",
    "        i=i+1\n",
    "    elif a[x]>a1:\n",
    "        inc = inc + 1\n",
    "        a1=a[x]\n",
    "    else:\n",
    "        a1=a[x]\n",
    "            \n",
    "print(inc)"
   ]
  },
  {
   "cell_type": "code",
   "execution_count": 29,
   "metadata": {},
   "outputs": [
    {
     "name": "stdout",
     "output_type": "stream",
     "text": [
      "1311\n"
     ]
    }
   ],
   "source": [
    "i=0\n",
    "inc3=0\n",
    "for x in range(len(a)):\n",
    "    if i==0:\n",
    "        a1=a[x]\n",
    "        i=i+1\n",
    "    elif i==1:\n",
    "        a2=a[x]\n",
    "        i=i+1\n",
    "    elif i==2:\n",
    "        a3=a[x]\n",
    "        i=i+1\n",
    "    else:\n",
    "        sum1=a1+a2+a3\n",
    "        sum2=a2+a3+a[x]\n",
    "        a1=a2\n",
    "        a2=a3\n",
    "        a3=a[x]\n",
    "        if sum2>sum1:\n",
    "            inc3=inc3+1\n",
    "        \n",
    "print(inc3)\n",
    "            \n",
    "            "
   ]
  },
  {
   "cell_type": "code",
   "execution_count": null,
   "metadata": {},
   "outputs": [],
   "source": []
  }
 ],
 "metadata": {
  "kernelspec": {
   "display_name": "Python 3",
   "language": "python",
   "name": "python3"
  },
  "language_info": {
   "codemirror_mode": {
    "name": "ipython",
    "version": 3
   },
   "file_extension": ".py",
   "mimetype": "text/x-python",
   "name": "python",
   "nbconvert_exporter": "python",
   "pygments_lexer": "ipython3",
   "version": "3.8.5"
  }
 },
 "nbformat": 4,
 "nbformat_minor": 4
}
